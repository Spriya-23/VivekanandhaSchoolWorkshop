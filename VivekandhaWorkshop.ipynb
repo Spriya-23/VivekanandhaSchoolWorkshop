{
  "nbformat": 4,
  "nbformat_minor": 0,
  "metadata": {
    "colab": {
      "provenance": [],
      "authorship_tag": "ABX9TyPK4VUawNs5t42yZvcEMkwm",
      "include_colab_link": true
    },
    "kernelspec": {
      "name": "python3",
      "display_name": "Python 3"
    },
    "language_info": {
      "name": "python"
    }
  },
  "cells": [
    {
      "cell_type": "markdown",
      "metadata": {
        "id": "view-in-github",
        "colab_type": "text"
      },
      "source": [
        "<a href=\"https://colab.research.google.com/github/Spriya-23/VivekanandhaSchoolWorkshop/blob/main/VivekandhaWorkshop.ipynb\" target=\"_parent\"><img src=\"https://colab.research.google.com/assets/colab-badge.svg\" alt=\"Open In Colab\"/></a>"
      ]
    },
    {
      "cell_type": "code",
      "source": [
        "\"\"\"\n",
        "re.match(): searches only in the beginning of the first line of the string and returns matched objects if found, else returns None.\n",
        "re.search: Returns a match object if there is one anywhere in the string, including multiline strings.\n",
        "re.findall: Returns a list containing all matches\n",
        "re.split: Takes a string, splits it at the match points, returns a list\n",
        "re.sub: Replaces one or many matches within a string\n",
        "\"\"\""
      ],
      "metadata": {
        "id": "4t-1LjGvRkqz"
      },
      "execution_count": null,
      "outputs": []
    },
    {
      "cell_type": "code",
      "execution_count": null,
      "metadata": {
        "id": "vpxEG6ARBe1g"
      },
      "outputs": [],
      "source": [
        "import re"
      ]
    },
    {
      "cell_type": "code",
      "source": [
        "#Match Function\n",
        "import re\n",
        "text = \"Sairam Instituions Sairam\"\n",
        "text1 = re.match(\"Sairam\",text,re.A)\n",
        "print(text1)\n",
        "start,end = text1.span()\n",
        "print(text[start:end])"
      ],
      "metadata": {
        "colab": {
          "base_uri": "https://localhost:8080/",
          "height": 53
        },
        "id": "Zrq_8GJjKGX5",
        "outputId": "47a29c5b-16c5-486b-b989-8d2471ebe904"
      },
      "execution_count": null,
      "outputs": [
        {
          "output_type": "stream",
          "name": "stdout",
          "text": [
            "<re.Match object; span=(0, 6), match='Sairam'>\n"
          ]
        },
        {
          "output_type": "execute_result",
          "data": {
            "text/plain": [
              "'\\nstart,end = text1.span()\\nprint(text[start:end])\\n'"
            ],
            "application/vnd.google.colaboratory.intrinsic+json": {
              "type": "string"
            }
          },
          "metadata": {},
          "execution_count": 72
        }
      ]
    },
    {
      "cell_type": "code",
      "source": [
        "#Search\n",
        "import re\n",
        "text = \"Sairam Instituions - Welcome to Python Session - Regular Expression workshop - Sairam\"\n",
        "text1 = re.search(\"Sairam\",text,re.I)\n",
        "print(text1)\n",
        "start,end = text1.span()\n",
        "print(text[start:end])"
      ],
      "metadata": {
        "colab": {
          "base_uri": "https://localhost:8080/"
        },
        "id": "jXkfceS2LirP",
        "outputId": "417bff47-3082-44ce-e78b-46d9d8cdcd7d"
      },
      "execution_count": null,
      "outputs": [
        {
          "output_type": "stream",
          "name": "stdout",
          "text": [
            "<re.Match object; span=(0, 6), match='Sairam'>\n",
            "Sairam\n"
          ]
        }
      ]
    },
    {
      "cell_type": "code",
      "source": [
        "#findall\n",
        "import re\n",
        "text = \"Sairam Instituions - Welcome to Python Session - Regular Expression workshop - Sairam\"\n",
        "text1 = re.findall(\"Sairam\",text,re.I)\n",
        "print(text1)\n"
      ],
      "metadata": {
        "colab": {
          "base_uri": "https://localhost:8080/"
        },
        "id": "IholCo8dL3Mq",
        "outputId": "54a18633-f371-40ca-f67d-50189a5174dc"
      },
      "execution_count": null,
      "outputs": [
        {
          "output_type": "stream",
          "name": "stdout",
          "text": [
            "['Sairam', 'Sairam']\n"
          ]
        }
      ]
    },
    {
      "cell_type": "code",
      "source": [
        "#Replace a substring\n",
        "import re\n",
        "text = \"Sairam Instituions - Welcome to Python Session - Regular Expression workshop - Sairam\"\n",
        "text1 = re.sub(\"Sairam\",\"SairamIT\",text,re.I)\n",
        "print(text1)"
      ],
      "metadata": {
        "colab": {
          "base_uri": "https://localhost:8080/"
        },
        "id": "l_OZVIONMJRQ",
        "outputId": "8e2b6661-9c1c-4d28-fda7-afebf8cf5067"
      },
      "execution_count": null,
      "outputs": [
        {
          "output_type": "stream",
          "name": "stdout",
          "text": [
            "SairamIT Instituions - Welcome to Python Session - Regular Expression workshop - SairamIT\n"
          ]
        }
      ]
    },
    {
      "cell_type": "code",
      "source": [
        "#Split a String\n",
        "import re\n",
        "text = \"Sairam Instituions - Welcome to Python Session - Regular Expression workshop - Sairam\"\n",
        "text1 = re.split(\"-\",text)\n",
        "print(text1)"
      ],
      "metadata": {
        "colab": {
          "base_uri": "https://localhost:8080/"
        },
        "id": "7FoBOPzkRbZV",
        "outputId": "86baacbb-afa3-4159-db20-7fc11f081389"
      },
      "execution_count": null,
      "outputs": [
        {
          "output_type": "stream",
          "name": "stdout",
          "text": [
            "['Sairam Instituions ', ' Welcome to Python Session ', ' Regular Expression workshop ', ' Sairam']\n"
          ]
        }
      ]
    },
    {
      "cell_type": "code",
      "source": [
        "\"\"\"Writing RegEx Patterns\n",
        "\"\"\"\n",
        "regex_pattern = r'Apple|[Bb]anana' # this square bracket means either A or a\n",
        "txt = 'Apple and banana are fruits. An old cliche says an apple a day a doctor way has been replaced by a banana a day keeps the doctor far far away.'\n",
        "matches = re.findall(regex_pattern, txt)\n",
        "print(matches)  # ['Apple', 'banana', 'apple', 'banana']"
      ],
      "metadata": {
        "colab": {
          "base_uri": "https://localhost:8080/"
        },
        "id": "XRKy0ZtWSWG1",
        "outputId": "61c23644-ae0e-48cd-ceb6-b12b50d40f77"
      },
      "execution_count": null,
      "outputs": [
        {
          "output_type": "stream",
          "name": "stdout",
          "text": [
            "['Apple', 'banana', 'banana']\n"
          ]
        }
      ]
    },
    {
      "cell_type": "code",
      "source": [
        "email_pattern =r'[a-z0-9._%+-]+@sairamtap\\.edu\\.in$'\n",
        "email1 = \"sit@sairam.edu.in\"\n",
        "email2 = \"siTit@sairamtap.edu.in\"\n",
        "\n",
        "validate1 = re.findall(email_pattern,email1)\n",
        "validate2 = re.findall(email_pattern,email2)\n",
        "print(validate1)\n",
        "print(validate2)"
      ],
      "metadata": {
        "colab": {
          "base_uri": "https://localhost:8080/"
        },
        "id": "FyPi5FqrtEX-",
        "outputId": "a3de1543-08ab-4202-e6f5-73ae9348571d"
      },
      "execution_count": null,
      "outputs": [
        {
          "output_type": "stream",
          "name": "stdout",
          "text": [
            "[]\n",
            "['it@sairamtap.edu.in']\n"
          ]
        }
      ]
    },
    {
      "cell_type": "code",
      "source": [
        "#Box Plot\n",
        "import matplotlib.pyplot as plt\n",
        "import pandas as pd\n",
        "subject = \"Maths\"\n",
        "marks = [91, 40, 74, 81, 75, 86, 78, 49, 74, 57, 42, 88, 4, 77, 21, 91, 82, 2, 65, 88, 40, 44, 34, 21, 1]\n",
        "stu_detail = {'sub':subject,'mark':marks}\n",
        "print(stu_detail)\n",
        "df = pd.DataFrame(stu_detail)\n",
        "print(df)\n",
        "df.boxplot(column=\"mark\", by=\"sub\")\n",
        "plt.show()"
      ],
      "metadata": {
        "colab": {
          "base_uri": "https://localhost:8080/",
          "height": 981
        },
        "id": "RcXE6PwuY-NS",
        "outputId": "56d871ce-4c5c-4bf4-d0d1-2c1e59ff87f1"
      },
      "execution_count": null,
      "outputs": [
        {
          "output_type": "stream",
          "name": "stdout",
          "text": [
            "{'sub': 'Maths', 'mark': [91, 40, 74, 81, 75, 86, 78, 49, 74, 57, 42, 88, 4, 77, 21, 91, 82, 2, 65, 88, 40, 44, 34, 21, 1]}\n",
            "      sub  mark\n",
            "0   Maths    91\n",
            "1   Maths    40\n",
            "2   Maths    74\n",
            "3   Maths    81\n",
            "4   Maths    75\n",
            "5   Maths    86\n",
            "6   Maths    78\n",
            "7   Maths    49\n",
            "8   Maths    74\n",
            "9   Maths    57\n",
            "10  Maths    42\n",
            "11  Maths    88\n",
            "12  Maths     4\n",
            "13  Maths    77\n",
            "14  Maths    21\n",
            "15  Maths    91\n",
            "16  Maths    82\n",
            "17  Maths     2\n",
            "18  Maths    65\n",
            "19  Maths    88\n",
            "20  Maths    40\n",
            "21  Maths    44\n",
            "22  Maths    34\n",
            "23  Maths    21\n",
            "24  Maths     1\n"
          ]
        },
        {
          "output_type": "display_data",
          "data": {
            "text/plain": [
              "<Figure size 640x480 with 1 Axes>"
            ],
            "image/png": "[encoded data removed]"
          },
          "metadata": {}
        }
      ]
    },
    {
      "cell_type": "code",
      "source": [
        "#Scatter Plot\n",
        "import matplotlib.pyplot as plt\n",
        "import pandas as pd\n",
        "subject = [\"sci\", \"maths\", \"sci\", \"social\", \"social\", \"sci\", \"social\", \"maths\", \"sci\", \"sci\", \"sci\", \"sci\", \"sci\", \"sci\", \"sci\", \"social\", \"sci\", \"maths\", \"social\", \"maths\", \"social\", \"maths\", \"social\", \"maths\", \"sci\"]\n",
        "marks = [91, 40, 74, 81, 75, 86, 78, 49, 74, 57, 42, 88, 4, 77, 21, 91, 82, 2, 65, 88, 40, 44, 34, 21, 1]\n",
        "stu_detail = {'mark':marks,'sub':subject}\n",
        "print(stu_detail)\n",
        "df = pd.DataFrame(stu_detail)\n",
        "print(df)\n",
        "plt.scatter(df['mark'],df['sub'])\n",
        "plt.show()"
      ],
      "metadata": {
        "colab": {
          "base_uri": "https://localhost:8080/",
          "height": 933
        },
        "id": "w9BHi8WscnnZ",
        "outputId": "ab576092-8de7-4584-9427-9e72736eac23"
      },
      "execution_count": null,
      "outputs": [
        {
          "output_type": "stream",
          "name": "stdout",
          "text": [
            "{'mark': [91, 40, 74, 81, 75, 86, 78, 49, 74, 57, 42, 88, 4, 77, 21, 91, 82, 2, 65, 88, 40, 44, 34, 21, 1], 'sub': ['sci', 'maths', 'sci', 'social', 'social', 'sci', 'social', 'maths', 'sci', 'sci', 'sci', 'sci', 'sci', 'sci', 'sci', 'social', 'sci', 'maths', 'social', 'maths', 'social', 'maths', 'social', 'maths', 'sci']}\n",
            "    mark     sub\n",
            "0     91     sci\n",
            "1     40   maths\n",
            "2     74     sci\n",
            "3     81  social\n",
            "4     75  social\n",
            "5     86     sci\n",
            "6     78  social\n",
            "7     49   maths\n",
            "8     74     sci\n",
            "9     57     sci\n",
            "10    42     sci\n",
            "11    88     sci\n",
            "12     4     sci\n",
            "13    77     sci\n",
            "14    21     sci\n",
            "15    91  social\n",
            "16    82     sci\n",
            "17     2   maths\n",
            "18    65  social\n",
            "19    88   maths\n",
            "20    40  social\n",
            "21    44   maths\n",
            "22    34  social\n",
            "23    21   maths\n",
            "24     1     sci\n"
          ]
        },
        {
          "output_type": "display_data",
          "data": {
            "text/plain": [
              "<Figure size 640x480 with 1 Axes>"
            ],
            "image/png": "[encoded data removed]"
          },
          "metadata": {}
        }
      ]
    },
    {
      "cell_type": "code",
      "source": [
        "#Pie Chart\n",
        "import matplotlib.pyplot as plt\n",
        "import pandas as pd\n",
        "subject = [\"sci\", \"maths\", \"sci\", \"social\", \"social\"]\n",
        "marks = [91, 40, 74, 81, 75]\n",
        "stu_detail = {'mark':marks,'sub':subject}\n",
        "df = pd.DataFrame(stu_detail)\n",
        "df.set_index('sub').plot.pie(y=\"mark\")\n",
        "plt.show()"
      ],
      "metadata": {
        "colab": {
          "base_uri": "https://localhost:8080/",
          "height": 406
        },
        "id": "t_0bL4YUeJjB",
        "outputId": "9a9e54b8-1abd-4a48-8813-ec439d8d40a4"
      },
      "execution_count": null,
      "outputs": [
        {
          "output_type": "display_data",
          "data": {
            "text/plain": [
              "<Figure size 640x480 with 1 Axes>"
            ],
            "image/png": "[encoded data removed]"
          },
          "metadata": {}
        }
      ]
    },
    {
      "cell_type": "code",
      "source": [
        "#histogram\n",
        "import matplotlib.pyplot as plt\n",
        "import pandas as pd\n",
        "data = [60, 28, 28, 60, 28, 60, 50, 50, 60, 50, 28, 50, 60, 50, 60, 50, 25, 28, 50, 50, 28, 28, 60, 25, 25, 25, 50, 60, 50, 60, 28, 50, 50, 28, 50, 60, 60, 60, 25, 25, 28, 60, 25, 50, 25, 25, 28, 28, 50, 60]\n",
        "val = {'values':data}\n",
        "df = pd.DataFrame(val)\n",
        "df['values'].hist(bins=4, color='skyblue', edgecolor='black')\n",
        "print(df.value_counts())"
      ],
      "metadata": {
        "colab": {
          "base_uri": "https://localhost:8080/",
          "height": 537
        },
        "id": "dwNTGqnGe11P",
        "outputId": "a3afb5fc-270b-4b9c-a62a-4f80f9326992"
      },
      "execution_count": null,
      "outputs": [
        {
          "output_type": "stream",
          "name": "stdout",
          "text": [
            "values\n",
            "50        15\n",
            "60        14\n",
            "28        12\n",
            "25         9\n",
            "Name: count, dtype: int64\n"
          ]
        },
        {
          "output_type": "display_data",
          "data": {
            "text/plain": [
              "<Figure size 640x480 with 1 Axes>"
            ],
            "image/png": "[encoded data removed]"
          },
          "metadata": {}
        }
      ]
    }
  ]
}